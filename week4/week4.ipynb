{
 "cells": [
  {
   "cell_type": "code",
   "execution_count": null,
   "metadata": {},
   "outputs": [],
   "source": [
    "# initialize a student object \n",
    "class Student : \n",
    "    idNext = 0 \n",
    "    def __init__(self, name, hostel) : \n",
    "        self.name = name \n",
    "        self.hostel = hostel\n",
    "        self.id = Student.idNext\n",
    "        Student.idNext += 1 "
   ]
  },
  {
   "cell_type": "code",
   "execution_count": null,
   "metadata": {},
   "outputs": [],
   "source": []
  }
 ],
 "metadata": {
  "language_info": {
   "name": "python"
  },
  "orig_nbformat": 4
 },
 "nbformat": 4,
 "nbformat_minor": 2
}
