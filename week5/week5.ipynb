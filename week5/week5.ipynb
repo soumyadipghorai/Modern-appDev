{
 "cells": [
  {
   "cell_type": "code",
   "execution_count": 5,
   "metadata": {},
   "outputs": [],
   "source": [
    "from flask import Flask \n",
    "\n",
    "app = Flask(__name__)\n",
    "\n",
    "\n",
    "@app.route('/') # decorator --> \n",
    "def home() : \n",
    "    \"\"\"\n",
    "    request : GET /\n",
    "    response : invoke hom() and return result \n",
    "    \"\"\"\n",
    "    return 'Hello world'\n",
    "\n",
    "@app.route('/index', methods = ['GET'])\n",
    "def index() : \n",
    "    return \"index apge\"\n",
    "\n",
    "@app.route('/create', methods = ['POST'])\n",
    "def store() : \n",
    "    return \" store object\"\n",
    "\n",
    "@app.route('/<int:user_id>', methods = ['GET'])\n",
    "def show() : \n",
    "    \"\"\"\n",
    "    if what follows / is an int then treat it as an user_id\n",
    "    if method is GET call the function show \n",
    "    pass the user_id into the function show as a parameter \n",
    "    \"\"\"    \n",
    "    return None \n",
    "\n",
    "@app.route('/<int:user_id>/edit', methods = ['POST'])\n",
    "def update() :   \n",
    "    return None \n",
    "\n",
    "\n",
    "@app.route('/<int:user_id>', methods = ['DELETE'])\n",
    "# method is delete then call destroy \n",
    "# pass the user_id into the function destroy as a parameter\n",
    "def destroy() : \n",
    "    return None "
   ]
  },
  {
   "cell_type": "code",
   "execution_count": null,
   "metadata": {},
   "outputs": [],
   "source": [
    "\n"
   ]
  }
 ],
 "metadata": {
  "kernelspec": {
   "display_name": "Python 3",
   "language": "python",
   "name": "python3"
  },
  "language_info": {
   "codemirror_mode": {
    "name": "ipython",
    "version": 3
   },
   "file_extension": ".py",
   "mimetype": "text/x-python",
   "name": "python",
   "nbconvert_exporter": "python",
   "pygments_lexer": "ipython3",
   "version": "3.10.7"
  },
  "orig_nbformat": 4
 },
 "nbformat": 4,
 "nbformat_minor": 2
}
