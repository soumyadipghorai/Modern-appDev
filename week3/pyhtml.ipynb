{
 "cells": [
  {
   "cell_type": "code",
   "execution_count": 1,
   "metadata": {},
   "outputs": [],
   "source": [
    "import pyhtml as h"
   ]
  },
  {
   "cell_type": "code",
   "execution_count": 3,
   "metadata": {},
   "outputs": [
    {
     "name": "stdout",
     "output_type": "stream",
     "text": [
      "<!DOCTYPE html>\n",
      "<html>\n",
      "  <head>\n",
      "    <title>\n",
      "      test page\n",
      "    </title>\n",
      "  </head>\n",
      "  <body>\n",
      "    <h1>\n",
      "      this is a title\n",
      "    </h1>\n",
      "    <div>\n",
      "      this is some text\n",
      "    </div>\n",
      "    <div>\n",
      "      <h2>\n",
      "        inside title\n",
      "      </h2>\n",
      "      <p>\n",
      "        some p tag\n",
      "      </p>\n",
      "    </div>\n",
      "  </body>\n",
      "</html>\n"
     ]
    }
   ],
   "source": [
    "t = h.html(\n",
    "    h.head(\n",
    "        h.title('test page')\n",
    "    ), \n",
    "    h.body(\n",
    "        h.h1('this is a title'), \n",
    "        h.div('this is some text'), \n",
    "        h.div(\n",
    "            h.h2('inside title'), \n",
    "            h.p('some p tag')\n",
    "        )\n",
    "    )\n",
    ")\n",
    "\n",
    "print(t.render())"
   ]
  },
  {
   "cell_type": "code",
   "execution_count": 4,
   "metadata": {},
   "outputs": [],
   "source": [
    "def f_table(ctx) : \n",
    "    return (h.tr(\n",
    "        h.td(cell) for cell in row \n",
    "    ) for row in ctx['table']\n",
    ")"
   ]
  },
  {
   "cell_type": "code",
   "execution_count": 9,
   "metadata": {},
   "outputs": [
    {
     "name": "stdout",
     "output_type": "stream",
     "text": [
      "ghorai is the CEO of Apple\n"
     ]
    }
   ],
   "source": [
    "from string import Template\n",
    "\n",
    "t = Template('$name is the $job of $company')\n",
    "s = t.substitute(name = 'ghorai', job = 'CEO', company = 'Apple')\n",
    "print(s)"
   ]
  },
  {
   "cell_type": "code",
   "execution_count": 17,
   "metadata": {},
   "outputs": [
    {
     "name": "stdout",
     "output_type": "stream",
     "text": [
      "Hello world!\n",
      "My fav number :  \n",
      "                 \n",
      "                    1\n",
      "                 \n",
      "                    2\n",
      "                 \n",
      "                    3\n",
      "                 \n",
      "                    4\n",
      "                 \n",
      "                    5\n",
      "                 \n",
      "                    6\n",
      "                 \n",
      "                    7\n",
      "                 \n",
      "                    8\n",
      "                 \n",
      "                    9\n",
      "                \n"
     ]
    }
   ],
   "source": [
    "from jinja2 import Template \n",
    "\n",
    "t = Template('Hello {{something}}!')\n",
    "print(t.render(something = 'world'))\n",
    "\n",
    "t = Template(\"\"\"My fav number :  \n",
    "                {% for i in range(1, 10) %} \n",
    "                    {{i}}\n",
    "                {% endfor %}\"\"\")\n",
    "\n",
    "print(t.render())"
   ]
  },
  {
   "cell_type": "code",
   "execution_count": null,
   "metadata": {},
   "outputs": [],
   "source": []
  }
 ],
 "metadata": {
  "kernelspec": {
   "display_name": "Python 3",
   "language": "python",
   "name": "python3"
  },
  "language_info": {
   "codemirror_mode": {
    "name": "ipython",
    "version": 3
   },
   "file_extension": ".py",
   "mimetype": "text/x-python",
   "name": "python",
   "nbconvert_exporter": "python",
   "pygments_lexer": "ipython3",
   "version": "3.10.7"
  },
  "orig_nbformat": 4
 },
 "nbformat": 4,
 "nbformat_minor": 2
}
